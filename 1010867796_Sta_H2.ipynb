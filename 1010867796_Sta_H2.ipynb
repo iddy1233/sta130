{
 "cells": [
  {
   "cell_type": "markdown",
   "id": "90f5f4f5",
   "metadata": {},
   "source": [
    "#### 1. Begin (or restart) part \"3(a)\" of the **TUT Demo** and interact with a ChatBot to make sure you understand how each part the Monte Hall problem code above works\n",
    "<br><details class=\"details-example\"><summary style=\"color:blue\"><u>Further Guidance</u></summary>\n",
    "    \n",
    "> _ChatBots typically explain code fairly effectively, so a ChatBot will probably be very helpful if you share the full Monte Hall problem code; but, you can always introduce more specific and targetted follow-up prompts that help with focus, re-redirection, and response format regarding the ChatBot responses as needed._ \n",
    ">\n",
    "> _ChatBots won't always re-introduce and re-explain the Monte Hall problem itself, so if you need it to do so you may need to specifically request this as part of your prompt or follow up interactions._\n",
    "\n",
    "</details>"
   ]
  },
  {
   "cell_type": "markdown",
   "id": "01a94ab7",
   "metadata": {},
   "source": [
    "https://chatgpt.com/c/66ecb216-4768-8001-ad7b-9930db2bc8f0"
   ]
  },
  {
   "cell_type": "markdown",
   "id": "bfe414c9",
   "metadata": {},
   "source": [
    "#### 2. Extend your ChatBot sessions to now address part \"3(b)\" of the **TUT Demo** and interact with your ChatBot to see if it can suggest a simpler, more streamlined way to code up this *for* loop simulation so the process is more clear and easier to understand; then, describe any preferences you have in terms of readibility or explainability  between the original code and the code improvements suggested by the ChatBot<br>\n",
    "\n",
    "<details class=\"details-example\"><summary style=\"color:blue\"><u>Further Guidance</u></summary>\n",
    "    \n",
    "> _The links in the TUT Demo show that there can be variation in the quality of the code improvements suggested by ChatBots; however, it's most likely that a ChatBot is going to be able to greatly reduce the number of steps/lines of code and hence complexity of understanding the problem. ChatBots can provide a good amount of explanation and inline clarifying code comments and provide more simpler more intuitive code that can transform something that looks a bit scary at first to something that's easy to follow and make sense of. Of course, in doing so, a ChatBot may introduce functions that you've technically not learned or seen before; but, the amount of simplification and clarifying comments is probably going to more than compensate for this; and, you'll have seen a learned a little bit more about what's possible through this process, which is the ideal experience we're hoping you'll see here._ \n",
    "    \n",
    "</details>\n"
   ]
  },
  {
   "cell_type": "markdown",
   "id": "288890c3",
   "metadata": {},
   "source": [
    "https://chatgpt.com/c/66ecb216-4768-8001-ad7b-9930db2bc8f0"
   ]
  },
  {
   "cell_type": "markdown",
   "id": "f3037e6a",
   "metadata": {},
   "source": [
    "The chatbot made it easier for me to understand and read the logic of the code. \n",
    "Instead of eliminating and removing the winning door and the player's first choice from the list, it used the != symbol to rebuild a list with only the remaining gates. The code given by the chatbot just followed the existing steps in the Mounty Hall problem, making the entire code have fewer steps, so the logic of the problem became easier for me to understand and follow. I prefered the whole structure of the code provided by chatbot. \n",
    "However, the line of code that rebuilds the list is a bit complicated, and I am confused about the meaning and structure of that part of the code."
   ]
  },
  {
   "cell_type": "markdown",
   "id": "f4c117b0",
   "metadata": {},
   "source": [
    "#### 3. Submit your preferred version of the Monty Hall problem that is verified to be running and working with a final printed output of the code; then, add code comments explaining the purpose of each line of the code<br>\n",
    "\n",
    "<details class=\"details-example\"><summary style=\"color:blue\"><u>Further Guidance</u></summary>\n",
    "    \n",
    "> _Your ChatBot will likely do much of this for you, but verify for yourself that you understand each comment and reword comments wherever you think it would be better to explain it differently._\n",
    ">\n",
    "> _Remember to ask for summaries of your current session and paste these into your homework notebook  (including link(s) to chat log histories if you're using ChatGPT)_\n",
    "\n",
    "</details>"
   ]
  },
  {
   "cell_type": "code",
   "execution_count": 10,
   "id": "7d6bb37c",
   "metadata": {},
   "outputs": [
    {
     "data": {
      "text/plain": [
       "0.66616"
      ]
     },
     "execution_count": 10,
     "metadata": {},
     "output_type": "execute_result"
    }
   ],
   "source": [
    "import numpy as np\n",
    "\n",
    "wins = 0\n",
    "# List of doors\n",
    "doors = [1, 2, 3] \n",
    "reps = 100000\n",
    "\n",
    "for i in range(reps):\n",
    " # Randomly pick the winning door\n",
    "    winning_door = np.random.choice(doors)\n",
    "        \n",
    "# Player makes an initial choice\n",
    "    player_choice = np.random.choice(doors)\n",
    "\n",
    "# Determine the doors that can be revealed (not the winning door and not the player's choice)\n",
    "    remaining_doors = [door for door in doors if door != player_choice and door != winning_door]\n",
    "\n",
    "# Randomly reveal a goat door\n",
    "    revealed_door = np.random.choice(remaining_doors)\n",
    "\n",
    "# Determine the new choice by switching\n",
    "# The only door left after revealing a goat is the other unopened door\n",
    "    new_choice = next(door for door in doors if door != player_choice and door != revealed_door)\n",
    "\n",
    " # Check if the new choice is the winning door\n",
    "    if new_choice == winning_door:\n",
    "                wins += 1\n",
    "switching_win_possibility=wins/reps\n",
    "switching_win_possibility"
   ]
  },
  {
   "cell_type": "markdown",
   "id": "f7044e3c",
   "metadata": {},
   "source": [
    "Current chat session summary:\n",
    "\n",
    "1. **Monty Hall Problem Code Explanation**: You provided a Python code snippet simulating the Monty Hall problem, and I explained its structure and logic, detailing how it models the game show scenario and calculates the win probability.\n",
    "\n",
    "2. **Code Simplification**: You requested a simpler version of the code. I provided a more concise version that retains the core functionality while improving readability through encapsulation, list comprehensions, and clearer variable naming.\n",
    "\n",
    "3. **List Comprehension Clarification**: You asked for an explanation of the list comprehension syntax `door for door in doors`. I explained how it works, including what each part means and provided an example.\n",
    "\n",
    "Chat link: https://chatgpt.com/c/66ecb216-4768-8001-ad7b-9930db2bc8f0"
   ]
  },
  {
   "cell_type": "markdown",
   "id": "96c128f1",
   "metadata": {},
   "source": [
    "#### 4. Watch the embedded video tutorial on Markov chains in the next Jupyter cell below to understand their application and relevance for ChatBots; then, after watching the video, start a new ChatBot session by prompting that you have code that creates a \"Markovian ChatBot\"; show it the first version of the \"Markovian ChatBot code\" below; and interact with the ChatBot session to make sure you understand how the original first version of the \"Markovian ChatBot code\" works<br>\n",
    "\n",
    "<details class=\"details-example\"><summary style=\"color:blue\"><u>Further Guidance</u></summary>\n",
    "\n",
    "> _If the ChatBot prompts you as to how you will \"train\" your own \"Markovian ChatBot\" you can reply that you'll just use a series of stories with a lot of different characters_\n",
    "> \n",
    "> _Ask for summaries of this second ChatBot session and paste these into your homework notebook (including link(s) to chat log histories if you're using ChatGPT)_\n",
    "    \n",
    "</details>"
   ]
  },
  {
   "cell_type": "markdown",
   "id": "c8da8624",
   "metadata": {},
   "source": [
    "https://chatgpt.com/c/66ecbecf-7c80-8001-9923-c2c53fa23448\n",
    "Summary: \n",
    "In our current chat session, we discussed a snippet of code for a Markovian ChatBot that counts word occurrences and their transitions. I explained the purpose of the code, including how it uses two dictionaries—word_used for counting individual word occurrences and next_word for tracking how often each word is followed by another word. We also covered the enumerate function, which allows you to iterate over an iterable while keeping track of the index, making loops more efficient and readable.\n"
   ]
  },
  {
   "cell_type": "markdown",
   "id": "158c27cc",
   "metadata": {},
   "source": [
    "#### 5. Recreate (or resume) the previous ChatBot session from question \"4\" above, and now  prompt the ChatBot session that you have a couple extensions of the code to show it, and then show it each of the extentions of the \"Markovian ChatBot code\" below in turn\n",
    "\n",
    "1. Without just supplying your ChatBot session with the answers, see if the ChatBot can figure out what the extensions in the code do; namely, making character specific Markov chains, and using bigrams (rather than just the previous word alone) dependency... prompt your ChatBot session with some hints if it's not seeming to \"get it\"<br><br>\n",
    "    \n",
    "2. Interact with your ChatBot session to have it explain details of the code wherever you need help understanding what the code is doing and how it works<br><br>\n",
    "\n",
    "    \n",
    "3. Start yet another new ChatBot session and first show the ChatBot the original \"Markovian ChatBot code\" below, and then tell ChatBot that you have an extension but this time just directly provide it the more complicated final extension without ever providing the intermediate extension code to the ChatBot session and see if it's still able to understand everything extension does; namely, making character specific Markov chains, and using bigrams (rather than just the previous word alone) dependency... prompt the ChatBot with some hints if it's not seeming to understand what you're getting at...<br><br>\n",
    "\n",
    "    \n",
    "<details class=\"details-example\"><summary style=\"color:blue\"><u>Further Guidance</u></summary>\n",
    "\n",
    "> **ALERT: Time Warning**. Regarding the comments below (which will likely be relevant and useful for you), you might find the potential learning experience that this provides to be a quite the rabbit total rabbit hole and time sink. You might end up finding out that you spent way more time than I should on learning the code!! So be mindful of your time management as there is much to do for many classes!\n",
    ">    \n",
    "> _As you may or may not have already experienced in the previous problem, a ChatBot applied to this problem is likely to start explaining a bit more knowledge about Python than you need to know (as a student just trying to learn stats+DS); however, you'll probably feel like this \"out of scope\" context information is helpful to know (or at least be aware of) and easy to understand and learn if you use some addtional prompts to dig deeper into them. A ChatBot will be quite good at explaining and helping understand smaller chunks of code; however, if given too much information at once it can gloss over some information._\n",
    ">   \n",
    "> _That said, some topics here are potentially quite and advanced and too tricky! You might be able to ask the ChatBot to simplify its explanations and that might help a bit. But on the other hand, some topics, such as, \"how does `nested_dict = lambda: defaultdict(nested_dict)` work?\" might just simply be too advanced to really admit a simpler explanation via a ChatBot. You'll have to let these sorts of things go, if you come across explanations that just aren't improving or helping at at. In the case of `defaultdict(nested_dict)` specifically, the details here are well beyond the scope of STA130 and can be very safely ignored for now. The code will have reviewed and \"walked thorugh\" in LEC, but the perspectives espoused there will be the extent of the formal commentary and information regarding the coding topics we encounter in the Markov ChatBots code here._\n",
    ">     \n",
    "> _Unlike with the Monte Hall problem, we will not inquire with the ChatBot to see if it can suggest any streamlining, readability, or usability improvements to the alternative versions of the \"Markovian ChatBot code\" we're examining_\n",
    ">     \n",
    "> - _because doing so seems to result in the attempted creation of dubiously functional modular code with a focus on reusability (which is likely a result of ChatBot design being primarily a \"computer science\" topic), so ChatBot reponses here tend to orient around programming and system design principles (despite \"Markovian\" very much being a \"statistics\" topic)_\n",
    ">     \n",
    "> _Programming and system design principles are beyond the scope of STA130; but, they are critical for modern data science careers... if you are interested in pursuing a data science career, it is imperitive that you complete courses like CSC263, CSC373, and perhaps an additional \"systems design\" course_\n",
    "> \n",
    "> ---\n",
    "> \n",
    "> _Don't forget to ask for summaries of all your different ChatBot sessions and organize and paste these into your homework notebook (including link(s) to chat log histories if you're using ChatBot)_\n",
    "    \n",
    "</details>"
   ]
  },
  {
   "cell_type": "markdown",
   "id": "8b69abda",
   "metadata": {},
   "source": [
    "chat link: https://chatgpt.com/c/66ecbecf-7c80-8001-9923-c2c53fa23448\n",
    "\n",
    "Summary: \n",
    "In our current chat session, we discussed two extensions of a Markovian ChatBot code:\n",
    "\n",
    "Extension #1:\n",
    "Tracks pairs of consecutive words, counting how often each pair appears and how frequently each word follows a given pair.\n",
    "\n",
    "Extension #2:\n",
    "Incorporates character-specific contexts by using a dataset. It counts word pairs and their transitions for each character, allowing for more nuanced dialogue generation.\n",
    "We also explained the line of code next_word2 = defaultdict(lambda: defaultdict(int)), detailing how it creates a nested dictionary structure to efficiently count transitions from one word (or character) to another."
   ]
  },
  {
   "cell_type": "markdown",
   "id": "2e65a7f3",
   "metadata": {},
   "source": [
    "The first extension tracks consecutive word pairs instead of just one word, and it creates a new dictionary and computes the likelihood of the word following the bigram. Additionally, it uses defaultdict(int) to return default values. The version of Markov Model Extension 2 is further refined by conditioning word transitions based on characters from the avatoe dataset. This enables the chatbot to generate text that matches the speaking style or vocabulary of a specific persona."
   ]
  },
  {
   "cell_type": "markdown",
   "id": "f1850056",
   "metadata": {},
   "source": [
    "#### 6. Report on your experience interacting with ChatBots to understand the Monte Hall problem and \"Markovian ChatBot\" code\n",
    "\n",
    "1. Discuss how quickly the ChatBot was able to be helpful for each of the above questions, and if so, how?<br><br>\n",
    "    \n",
    "2. Discuss whether or not interacting with ChatBot to try to figure things out was frustrating or unhelpful, and if so, how?<br><br>\n",
    "    \n",
    "3. Based on your experiences to date (e.g., including using ChatBots to troubleshoot coding errors in the previous homework), provide an overall assessment evaluating the usefulness of ChatBots as tools to help you understand code<br>"
   ]
  },
  {
   "cell_type": "markdown",
   "id": "cce89e92",
   "metadata": {},
   "source": [
    "1. The chatbot can understand what the code is doing quickly and show the logic of the code. For the initial code of the Mounte Hall problem, it responded very quickly and showed me what each line of code does and what role they play in the whole code. In addition, he was able to break down the concepts and make me easier to understand the underlying logic. In the newly generated code, it really made the Mounty Hall code very simple， which help me to understand the whole logic and structure of the problem. It also introduced additional code functions to regenerate the list. For \"Markov Chain\", it did a good job of explaining how to use dictionaries to count words and transformations, counting the frequency of words in different situations. It can understanding what the basic code and the extended code do and breaking down the code steps.\n",
    "\n",
    "2. Most of the time, the chatbot was very helpful for me to understand the function of the code, they can give a specific explanation of each code, and when I asked for the definition of certain functions, they gave examples very quickly to explain. Sometimes, these explanations are not easy to understand for people who specialize in this field, but I can still ask them to explain in an easy-to-understand way. However, sometimes their explanations lacked detailed knowledge, when I gave them the second extension of Markov chain, although they understood what the code was doing, they did not relate one code to the previous code very logically in their explanations .\n",
    "\n",
    "3. Generally, charbot was useful as a tool to help me with coding, they could provide examples of what the code does, show the code output to help me understand better, and sometimes they also helped visualize the coding process, but I still needed to interact with them constantly to understand the entire code. "
   ]
  },
  {
   "cell_type": "markdown",
   "id": "74bc00a8",
   "metadata": {},
   "source": [
    "#### 7. Reflect on your experience interacting with ChatBot and describe how your perception of AI-driven assistance tools in the context of learning coding, statistics, and data science has been evolving (or not) since joining the course<br><br>\n",
    "\n",
    "<details class=\"details-example\"><summary style=\"color:blue\"><u>Further Guidance</u></summary>\n",
    "    \n",
    "> _Question \"7\" and the next question \"8\" are somewhat related to the first bullet point in the suggested interactions of the \"Afterword\" to the Homework from last week... consider reviewing that if you'd like a little extra orienting around what these questions are trying to have you explore_\n",
    "   \n",
    "</details>"
   ]
  },
  {
   "cell_type": "markdown",
   "id": "ac8e2543",
   "metadata": {},
   "source": [
    "In terms of coding and statistics, AI has great potential in assisting us in learning or coding. The knowledge and coding system he possesses is still very vast. When I am confused, AI assistance can explain the definition and code, and provide additional knowledge in the learning process. Asking them can reduce confusion when encountering some code that has not been seen. \n",
    "In the process of learning statistics, I found AI plays a role in applying theoretical knowledge and solving practical problems like the Mounty Hall problem, effectively converting the possibility into code, so we can intuitively see the possibility of winning if the door is changed. In addition, for checking the errors of the code, it is very useful to give them all the code you have written, which helps us solve a large part of the trouble. However, when asking them similar questions, the answers of the chatbots are very similar, and the understanding and analysis given lack subtle and deep insights, so it is also necessary to seek other resources to understand and critically look at the answers given by AI."
   ]
  },
  {
   "cell_type": "markdown",
   "id": "1857704c",
   "metadata": {},
   "source": [
    "#### 8. ChatBots consume text data available on the web or platforms, and thus represents a new way to \"search consensensus\" that condenses and summarizes mainstream human thought<br><br>\n",
    "\n",
    "1. Start a new ChatBot session and discuss the relevance of learning and adaptability, communication, coding, and statistics and data analysis as skills in the modern world, especially with respect to career opportunities (particularly in the context of the data science industry)<br><br>\n",
    "    \n",
    "2. See if ChatBot thinks you could be a statistician or data scientist without coding or doing data analysis, and then transition your ChatBot conversation into a career exploration discussion, using the ChatBot to identify the skills that might be the most valuable for a career that you're interested<br><br>\n",
    "    \n",
    "3. Ask for a summary of this ChatBot session and paste it into your homework notebook (including link(s) to chat log histories if you're using ChatBot)<br><br>\n",
    "    \n",
    "4. Paraphrase the assessments and conclusions of your conversation in the form of a reflection on your current thoughts regarding your potential future career(s) and how you can go about building the skills you need to pursue it<br><br>\n",
    "\n",
    "5. Give your thoughts regarding the helpfulness or limitations of your conversation with a ChatBot, and describe the next steps you would take to pursue this conversation further if you felt the information the ChatBot provides was somewhat high level and general, and perhaps lacked the depth and detailed knowledge of a dedicated subject matter expert who had really take the time to understand the ins and outs of the industry and career path in question.\n",
    "<br><br>\n",
    "\n",
    "<details class=\"details-example\"><summary style=\"color:blue\"><u>Further Guidance</u></summary>\n",
    "\n",
    "> _While question 8 is not a part of the rubric, it is nonetheless a very good exercise that will likely be valuable for you if you engage it them sincerely_\n",
    "    \n",
    "</details>"
   ]
  },
  {
   "cell_type": "markdown",
   "id": "973b8e3d",
   "metadata": {},
   "source": [
    "Summary:\n",
    "In our chat, we discussed the relevance of skills like learning and adaptability, communication, coding, statistics, and data analysis in the modern world, particularly in the context of the data science industry. We emphasized that coding and data analysis are fundamental for roles in statistics and data science. You expressed an interest in delving into a career in data analysis, and I outlined valuable skills for that path, including statistical knowledge, data manipulation, coding skills, data visualization, critical thinking, domain knowledge, communication, problem-solving, attention to detail, and collaboration.\n",
    "https://chatgpt.com/c/66ecc254-aa54-8001-b553-30b023a6ab8d"
   ]
  },
  {
   "cell_type": "markdown",
   "id": "ca1eae3a",
   "metadata": {},
   "source": [
    "4. If I want to engage in a career related to data analysis, it is essential to master data analysis skills and coding knowledge. It is still necessary to be proficient in using visualization tools, otherwise I may be limited by my career. Although chatbots can sometimes help us write code, the analytical skills it has are not enough for in-depth analysis and professional fields, and it has limitations, so it can only be a tool for us to improve efficiency. Secondly, the essential core abilities are critical thinking and attention to details, as well as learning to work with others, which I can acquire through experience in some projects and learning in different disciplines.\n",
    "5. The information provided by chatbots is sometimes too general and lacks detailed knowledge, if I find that their answers are not helpful. I may ask them more detailed questions about my confusion, give the chatbot some guidance, and provide the background of the problem and the knowledge I have."
   ]
  },
  {
   "cell_type": "markdown",
   "id": "a64c234d",
   "metadata": {},
   "source": [
    "#### 9. Have you reviewed the course [wiki-textbook](https://github.com/pointOfive/stat130chat130/wiki) and interacted with a ChatBot (or, if that wasn't sufficient, real people in the course piazza discussion board or TA office hours) to help you understand all the material in the tutorial and lecture that you didn't quite follow when you first saw it?<br><br>\n",
    "  \n",
    "<details class=\"details-example\"><summary style=\"color:blue\"><u>Further Guidance</u></summary>\n",
    "    \n",
    "> _Just answering \"Yes\" or \"No\" or \"Somewhat\" or \"Mostly\" or whatever here is fine as this question isn't a part of the rubric; but, the midterm and final exams may ask questions that are based on the tutorial and lecture materials; and, your own skills will be limited by your familiarity with these materials (which will determine your ability to actually do actual things effectively with these skills... like the course project...)_\n",
    "    \n",
    "</details>"
   ]
  },
  {
   "cell_type": "markdown",
   "id": "051a20e5",
   "metadata": {},
   "source": [
    "Mostly"
   ]
  }
 ],
 "metadata": {
  "kernelspec": {
   "display_name": "Python 3 (ipykernel)",
   "language": "python",
   "name": "python3"
  },
  "language_info": {
   "codemirror_mode": {
    "name": "ipython",
    "version": 3
   },
   "file_extension": ".py",
   "mimetype": "text/x-python",
   "name": "python",
   "nbconvert_exporter": "python",
   "pygments_lexer": "ipython3",
   "version": "3.11.6"
  }
 },
 "nbformat": 4,
 "nbformat_minor": 5
}
